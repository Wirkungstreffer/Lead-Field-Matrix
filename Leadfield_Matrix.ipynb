{
 "cells": [
  {
   "attachments": {},
   "cell_type": "markdown",
   "metadata": {},
   "source": [
    "In this project, we will calculate a lead-field matrix that can convert brain activity in the AAL2 atlas to a 64 electrode EEG cap.\n",
    "A lead-field matrix is a matrix `M` s.th.\n",
    "`y_m = M_mn x_n`\n",
    "where `y_m` is the EEG activity at electrode `m` and `x_n` is the neural activity at voxel `n`. Note: I will call the elements of a brain that can generate activity a \"voxel\", but they could also be represented as \"nodes\" in a mesh representation in Field trip.\n",
    "These are the steps:\n",
    "- First, we calculate a high-resolution lead-field matrix using Field Trip. Field trip converts the neural activity that is represented as dipoles on each voxel of the brain into the electric field at the electrodes. These dipoles generate an electric field that is simulated until it reaches the EEG electrodes.\n",
    "- Typically, this problem is done in reverse: you start with EEG data `y` and want to end up with brain activity `x`. We have the inverse problem: we want to know what `y` is, if *ALL* voxels `x` are active.\n",
    "- Electric fields are linear that means we can compute the *overall* lead field matrix that measure the effect of all voxels from the *individual* lead field matrices that measure only the effect of a single voxel.\n",
    "- I can imagine there are two ways of doing this: either there is a way in field trip to \"activate\" the entire brain at once and get the *overall* lead field matrix (probably uses some kind of data structure to hold this), or we would have to go through the brain one voxel `n` (example: `n=1`) at a time, activate that voxel and measure the lead field matrix `M_m1` (it's actually just a column of the overall matrix) for that voxel. We do that `N` times such that we get `N` lead field matrices that we can just sum up to get the overall one: `M_mn = M_m1 + M_m2 + ... + M_mN`\n",
    "- The first way of doing this would be a lot more efficient.\n",
    "- We then get a high-res lead field matrix (the *overall* matrix) with `N` columns.\n",
    "- Export this matrix into a python-usable format (simple numpy array). We can work with this matrix later in Python.\n",
    "- Now we want to create a low-res lead field matrix defined over the AAL2 atlas.\n",
    "- For this, we need to summarize the columns of the high-res matrix such that values that belong to the same AAL2 brain region are reduced into one column.\n",
    "- We can take a column of this matrix that corresponds to voxels that belong to the same brain area and simply take the average EEG activity that this brain area causes by simply taking the average of these columns and using it as one.\n",
    "- Now we should have a low-dimensional lead field matrix with `n` being 120 (or: 80 only cortical areas, excluding subcortical).\n",
    "# Testing results\n",
    "- Now that we have the lead field matrix, we can do cool things with neurolib.\n",
    "- We can simulate brain activity `x` and calculate EEG activity `y` by simply multiplying the activity with the matrix.\n",
    "- We now have EEG activity that we can compare with the original activity `x` and see which effects this introduces. First thing to check would be to simulate a brain that produces slow oscillations and compare the power spectra of `y` and `x`.\n",
    "- Same for a brain that is oscillating at higher frequencies.\n",
    "- The neurolib whole-brain model parameters to simulate slow oscillations or high-frequency oscillations will be shared with you.\n",
    "The end.\n",
    "\n",
    "Matlab Script: https://www.fieldtriptoolbox.org/workshop/ohbm2018/forward/ \n",
    "\n",
    "Forward Model: https://www.fieldtriptoolbox.org/development/module/forward/"
   ]
  },
  {
   "cell_type": "code",
   "execution_count": 2,
   "metadata": {},
   "outputs": [],
   "source": [
    "import numpy as np\n",
    "import scipy as sp\n",
    "import matplotlib as plt"
   ]
  }
 ],
 "metadata": {
  "kernelspec": {
   "display_name": "NI_Project",
   "language": "python",
   "name": "python3"
  },
  "language_info": {
   "codemirror_mode": {
    "name": "ipython",
    "version": 3
   },
   "file_extension": ".py",
   "mimetype": "text/x-python",
   "name": "python",
   "nbconvert_exporter": "python",
   "pygments_lexer": "ipython3",
   "version": "3.9.16"
  },
  "orig_nbformat": 4
 },
 "nbformat": 4,
 "nbformat_minor": 2
}
